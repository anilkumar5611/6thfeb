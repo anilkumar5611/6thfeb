{
 "cells": [
  {
   "cell_type": "code",
   "execution_count": 1,
   "id": "968f06dd",
   "metadata": {},
   "outputs": [
    {
     "name": "stdout",
     "output_type": "stream",
     "text": [
      "Product of all numeric values in the flattened list: 0\n"
     ]
    }
   ],
   "source": [
    "# q1\n",
    "def flatten_and_multiply(lst):\n",
    "    def is_numeric(val):\n",
    "        return isinstance(val, (int, float))\n",
    "\n",
    "    def flatten(lst):\n",
    "        flat_list = []\n",
    "        for item in lst:\n",
    "            if isinstance(item, list):\n",
    "                flat_list.extend(flatten(item))\n",
    "            elif isinstance(item, dict):\n",
    "                flat_list.extend(flatten(item.values()))\n",
    "                for key in item.keys():\n",
    "                    if is_numeric(key):\n",
    "                        flat_list.append(key)\n",
    "            elif is_numeric(item):\n",
    "                flat_list.append(item)\n",
    "        return flat_list\n",
    "\n",
    "    flattened_list = flatten(lst)\n",
    "    \n",
    "    product = 1\n",
    "    for num in flattened_list:\n",
    "        product *= num\n",
    "\n",
    "    return product\n",
    "\n",
    "# Test the function with the provided list\n",
    "list1 = [1,2,3,4, [44,55,66, True], False, (34,56,78,89,34), {1,2,3,3,2,1}, {1:34, \"key2\": [55, 67, 78, 89], 4: (45, 22, 61, 34)}, [56, 'data science'], 'Machine Learning']\n",
    "\n",
    "result = flatten_and_multiply(list1)\n",
    "print(\"Product of all numeric values in the flattened list:\", result)\n"
   ]
  },
  {
   "cell_type": "code",
   "execution_count": 2,
   "id": "2ac06ba5",
   "metadata": {},
   "outputs": [
    {
     "name": "stdout",
     "output_type": "stream",
     "text": [
      "Encrypted Sentence: r$dzmg$gl$yvxlnv$z$wzgz$hxrvmgrhg.\n"
     ]
    }
   ],
   "source": [
    "# q2=\n",
    "def encrypt_message(message):\n",
    "    # Define a dictionary for character mapping\n",
    "    char_mapping = {\n",
    "        'a': 'z', 'b': 'y', 'c': 'x', 'd': 'w', 'e': 'v', 'f': 'u', 'g': 't', 'h': 's', 'i': 'r',\n",
    "        'j': 'q', 'k': 'p', 'l': 'o', 'm': 'n', 'n': 'm', 'o': 'l', 'p': 'k', 'q': 'j', 'r': 'i',\n",
    "        's': 'h', 't': 'g', 'u': 'f', 'v': 'e', 'w': 'd', 'x': 'c', 'y': 'b', 'z': 'a', ' ': '$'\n",
    "    }\n",
    "\n",
    "    # Convert the message to lowercase\n",
    "    message = message.lower()\n",
    "\n",
    "    # Initialize an empty string for the encrypted message\n",
    "    encrypted_message = \"\"\n",
    "\n",
    "    # Encrypt each character in the message\n",
    "    for char in message:\n",
    "        if char in char_mapping:\n",
    "            encrypted_message += char_mapping[char]\n",
    "        else:\n",
    "            encrypted_message += char  # Keep punctuation marks unchanged\n",
    "\n",
    "    return encrypted_message\n",
    "\n",
    "# Input Sentence\n",
    "input_sentence = \"I want to become a Data Scientist.\"\n",
    "\n",
    "# Encrypt the input sentence\n",
    "encrypted_sentence = encrypt_message(input_sentence)\n",
    "\n",
    "# Print the encrypted sentence\n",
    "print(\"Encrypted Sentence:\", encrypted_sentence)\n"
   ]
  },
  {
   "cell_type": "code",
   "execution_count": null,
   "id": "95f59b85",
   "metadata": {},
   "outputs": [],
   "source": []
  }
 ],
 "metadata": {
  "kernelspec": {
   "display_name": "Python 3 (ipykernel)",
   "language": "python",
   "name": "python3"
  },
  "language_info": {
   "codemirror_mode": {
    "name": "ipython",
    "version": 3
   },
   "file_extension": ".py",
   "mimetype": "text/x-python",
   "name": "python",
   "nbconvert_exporter": "python",
   "pygments_lexer": "ipython3",
   "version": "3.11.2"
  }
 },
 "nbformat": 4,
 "nbformat_minor": 5
}
